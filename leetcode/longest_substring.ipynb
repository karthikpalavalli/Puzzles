{
 "cells": [
  {
   "cell_type": "code",
   "execution_count": 13,
   "metadata": {},
   "outputs": [
    {
     "name": "stdout",
     "output_type": "stream",
     "text": [
      "a\n",
      "[]\n"
     ]
    }
   ],
   "source": [
    "from copy import deepcopy\n",
    "\n",
    "input_str = input()\n",
    "\n",
    "max_chars_seen = []\n",
    "\n",
    "for i in range(len(input_str)):\n",
    "    chars_seen = []\n",
    "    chars_seen.append(input_str[i])\n",
    "    \n",
    "    \n",
    "    for j in range(i+1,len(input_str)):\n",
    "        print(len(chars_seen))\n",
    "        if len(chars_seen) > len(max_chars_seen):\n",
    "            max_chars_seen = deepcopy(chars_seen)\n",
    "        if input_str[j] in chars_seen:\n",
    "            break\n",
    "        chars_seen.append(input_str[j])\n",
    "\n",
    "print(max_chars_seen)"
   ]
  },
  {
   "cell_type": "code",
   "execution_count": null,
   "metadata": {},
   "outputs": [],
   "source": []
  }
 ],
 "metadata": {
  "kernelspec": {
   "display_name": "Python 3",
   "language": "python",
   "name": "python3"
  },
  "language_info": {
   "codemirror_mode": {
    "name": "ipython",
    "version": 3
   },
   "file_extension": ".py",
   "mimetype": "text/x-python",
   "name": "python",
   "nbconvert_exporter": "python",
   "pygments_lexer": "ipython3",
   "version": "3.6.5"
  }
 },
 "nbformat": 4,
 "nbformat_minor": 2
}
